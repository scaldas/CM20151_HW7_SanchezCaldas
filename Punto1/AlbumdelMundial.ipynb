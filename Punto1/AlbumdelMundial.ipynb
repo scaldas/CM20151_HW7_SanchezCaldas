{
 "cells": [
  {
   "cell_type": "markdown",
   "metadata": {},
   "source": [
    "# Metodos Computacionales HW7 Punto1"
   ]
  },
  {
   "cell_type": "code",
   "execution_count": 1,
   "metadata": {
    "collapsed": false
   },
   "outputs": [
    {
     "name": "stdout",
     "output_type": "stream",
     "text": [
      "Populating the interactive namespace from numpy and matplotlib\n"
     ]
    }
   ],
   "source": [
    "import numpy as np\n",
    "import matplotlib.pyplot as plt\n",
    "import numpy.random as rnd\n",
    "%pylab inline"
   ]
  },
  {
   "cell_type": "code",
   "execution_count": 2,
   "metadata": {
    "collapsed": false
   },
   "outputs": [],
   "source": [
    "album = []\n",
    "numintentos = 1"
   ]
  },
  {
   "cell_type": "code",
   "execution_count": 3,
   "metadata": {
    "collapsed": false
   },
   "outputs": [],
   "source": [
    "#funciones para conseguir una mona, llenar el album y llenar n albumes respectivamente\n",
    "def getMona():\n",
    "    x = random_integers(1,640,size =None)\n",
    "    return x\n",
    "\n",
    "def getmintentosdellenarelalbum(album,numintentos):\n",
    "    while len(album) < 640:\n",
    "        numintentos = numintentos + 1\n",
    "        mona = getMona()\n",
    "        if mona not in album:\n",
    "            album.append(mona)\n",
    "    return numintentos\n",
    "\n",
    "def getfinal(m):\n",
    "    mlist = []\n",
    "    for i in range(m):\n",
    "        album = []\n",
    "        numintentos = 1\n",
    "        x = getmintentosdellenarelalbum(album,numintentos)\n",
    "        mlist.append(x)      \n",
    "    return mlist"
   ]
  },
  {
   "cell_type": "code",
   "execution_count": 4,
   "metadata": {
    "collapsed": false
   },
   "outputs": [
    {
     "data": {
      "text/plain": [
       "array([    10.,   1120.,   2230.,   3340.,   4450.,   5560.,   6670.,\n",
       "         7780.,   8890.,  10000.])"
      ]
     },
     "execution_count": 4,
     "metadata": {},
     "output_type": "execute_result"
    }
   ],
   "source": [
    "#definimos un arreglo que contiene el indice de las muestras.\n",
    "m = linspace(10,10000,10)\n",
    "m "
   ]
  },
  {
   "cell_type": "code",
   "execution_count": 32,
   "metadata": {
    "collapsed": false,
    "scrolled": true
   },
   "outputs": [
    {
     "name": "stdout",
     "output_type": "stream",
     "text": [
      "0.1\n",
      "11.2\n",
      "22.3\n",
      "33.4\n",
      "44.5\n",
      "55.6\n",
      "66.7\n",
      "77.8\n",
      "88.9\n",
      "100.0\n"
     ]
    }
   ],
   "source": [
    "#Calculamos un indice de muestras, medias y varianzas para cada tamano de muestra, se agrega el print para saber en donde va\n",
    "ms = []\n",
    "media = []\n",
    "var = []\n",
    "for i in m:\n",
    "    x = getfinal(int(i))\n",
    "    a = 400*mean(x)\n",
    "    b = 1/(a**2 - 400*mean(x)*mean(x))\n",
    "    ms.append(i)\n",
    "    media.append(a)\n",
    "    var.append(b)\n",
    "    print (100*i/m[-1])"
   ]
  },
  {
   "cell_type": "markdown",
   "metadata": {},
   "source": [
    "Aqui podemos ver el grafico del costo de llenar el album promedio, a medida que aumentamos el numero de albumes a llenar. También podemos observar la tendencia innegable a mantenerse al rededor de los 1'800.000 COP, de manera que se puede concluir que llenar el álbum de esta manera puede costar al rededor de 1'800.000. A pesar de que esta no sea la forma mas inteligente de llenar el album del mundial."
   ]
  },
  {
   "cell_type": "code",
   "execution_count": 35,
   "metadata": {
    "collapsed": false,
    "scrolled": false
   },
   "outputs": [
    {
     "data": {
      "text/plain": [
       "[<matplotlib.lines.Line2D at 0x109167250>]"
      ]
     },
     "execution_count": 35,
     "metadata": {},
     "output_type": "execute_result"
    },
    {
     "data": {
      "image/png": "[encoded data removed]",
      "text/plain": [
       "<matplotlib.figure.Figure at 0x109084d50>"
      ]
     },
     "metadata": {},
     "output_type": "display_data"
    }
   ],
   "source": [
    "plot(ms,media)"
   ]
  },
  {
   "cell_type": "markdown",
   "metadata": {},
   "source": [
    "Aqui podemos ver el grafico de la varianza, a medida que aumentamos el numero de albumes a llenar. Por la ley de numeros grandes a medida que incrementa el numero de muestra debería estabilizarse más en su valor esperado, a pesar de que no todas las distribuciones se comportan asi, para nuestro caso si se ve la forma en la que se reduce la varianza. en en valor de muestra de 10000 obtiene un valor de varianza de $3.1∗10^{−13}$ y estimamos que para que desde un tamaño de muestra de 10 ya esta la diferencia entre el valor esperado y la media global de $10^{−6}$."
   ]
  },
  {
   "cell_type": "code",
   "execution_count": 34,
   "metadata": {
    "collapsed": false,
    "scrolled": true
   },
   "outputs": [
    {
     "data": {
      "text/plain": [
       "[<matplotlib.lines.Line2D at 0x109046b90>]"
      ]
     },
     "execution_count": 34,
     "metadata": {},
     "output_type": "execute_result"
    },
    {
     "data": {
      "image/png": "[encoded data removed]",
      "text/plain": [
       "<matplotlib.figure.Figure at 0x108877c10>"
      ]
     },
     "metadata": {},
     "output_type": "display_data"
    }
   ],
   "source": [
    "plot(ms,var)"
   ]
  },
  {
   "cell_type": "code",
   "execution_count": null,
   "metadata": {
    "collapsed": true
   },
   "outputs": [],
   "source": [
    "# A continuacion se plantean las funciones para el caso de laminas especiales.\n",
    "def getMonaPespecial():\n",
    "    y = random_integers(1,6,size =None)\n",
    "    if y == 1 or 2:\n",
    "        x = random_integers(1,40,size =None) \n",
    "    elif y == 3:\n",
    "        x = random_integers(41,80,size =None)\n",
    "    else:\n",
    "        x = random_integers(81,640,size =None)\n",
    "    return x\n",
    "\n",
    "def getmintentosdellenarelalbumesp(album,numintentos):\n",
    "    while len(album) < 640:\n",
    "        numintentos = numintentos + 1\n",
    "        mona = getMonaPespecial()\n",
    "        if mona not in album:\n",
    "            album.append(mona)\n",
    "    return numintentos\n",
    "\n",
    "def getfinal(m):\n",
    "    mlist = []\n",
    "    for i in range(m):\n",
    "        album = []\n",
    "        numintentos = 1\n",
    "        x = getmintentosdellenarelalbumesp(album,numintentos)\n",
    "        mlist.append(x)      \n",
    "    return mlist"
   ]
  },
  {
   "cell_type": "code",
   "execution_count": null,
   "metadata": {
    "collapsed": true
   },
   "outputs": [],
   "source": [
    "#definimos un arreglo que contiene el indice de las muestras.\n",
    "m = linspace(10,10000,10)\n",
    "m "
   ]
  },
  {
   "cell_type": "markdown",
   "metadata": {},
   "source": [
    "Atención!! intentamos correr este código pero no terminó!"
   ]
  },
  {
   "cell_type": "code",
   "execution_count": null,
   "metadata": {
    "collapsed": true
   },
   "outputs": [],
   "source": [
    "#Calculamos un indice de muestras, medias y varianzas para cada tamano de muestra, se agrega el print para saber en donde va\n",
    "ms = []\n",
    "media = []\n",
    "var = []\n",
    "for i in m:\n",
    "    x = getfinal(int(i))\n",
    "    a = 400*mean(x)\n",
    "    b = 1/(a**2 - 400*mean(x)*mean(x))\n",
    "    ms.append(i)\n",
    "    media.append(a)\n",
    "    var.append(b)\n",
    "    print (100*i/m[-1])"
   ]
  },
  {
   "cell_type": "markdown",
   "metadata": {},
   "source": [
    "El siguiente chunk debe mostrar un grafico que nos mostrará cuanto vale en promedio llenar un album con las caracteristicas de probabilidades diferentes en las laminas"
   ]
  },
  {
   "cell_type": "code",
   "execution_count": null,
   "metadata": {
    "collapsed": true
   },
   "outputs": [],
   "source": [
    "plot(ms,media)"
   ]
  },
  {
   "cell_type": "markdown",
   "metadata": {},
   "source": [
    "El siguiente chunk debe mostrar un grafico que nos mostrará como se comporta la varianza a medida que se incrementa el numero de muestras para determinar con que numero de muestras se puede determinar con una confiabilidad del 95% que se está entregando un valor acertado."
   ]
  },
  {
   "cell_type": "code",
   "execution_count": null,
   "metadata": {
    "collapsed": true
   },
   "outputs": [],
   "source": [
    "plot(ms,var)"
   ]
  }
 ],
 "metadata": {
  "kernelspec": {
   "display_name": "Python 2",
   "language": "python",
   "name": "python2"
  },
  "language_info": {
   "codemirror_mode": {
    "name": "ipython",
    "version": 2
   },
   "file_extension": ".py",
   "mimetype": "text/x-python",
   "name": "python",
   "nbconvert_exporter": "python",
   "pygments_lexer": "ipython2",
   "version": "2.7.9"
  }
 },
 "nbformat": 4,
 "nbformat_minor": 0
}
